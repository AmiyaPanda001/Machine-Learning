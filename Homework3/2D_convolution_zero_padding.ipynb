{
 "cells": [
  {
   "cell_type": "code",
   "execution_count": 107,
   "metadata": {},
   "outputs": [],
   "source": [
    "import numpy as np\n",
    "def conv(inp_mat,conv_mat):\n",
    "    (a,b) = conv_mat.shape\n",
    "    (x,y) = inp_mat.shape\n",
    "    out_mat = np.zeros(inp_mat.shape)\n",
    "    inp_mat = np.pad(inp_mat,(a//2,b//2), 'constant', constant_values=0)\n",
    "    #print(inp_mat)\n",
    "    \n",
    "    #print(x,y,a,b)\n",
    "    for i in range(x):\n",
    "        for j in range(y):\n",
    "            temp = 0\n",
    "            for ci in range(a):\n",
    "                for cj in range(b):\n",
    "                    #print(i,j,ci,cj)\n",
    "                    temp += inp_mat[i+ci,j+cj]*conv_mat[ci,cj]\n",
    "            out_mat[i,j] = temp\n",
    "    \n",
    "    return out_mat"
   ]
  },
  {
   "cell_type": "code",
   "execution_count": 108,
   "metadata": {},
   "outputs": [
    {
     "data": {
      "text/plain": [
       "array([[164, 188, 164, 161, 195],\n",
       "       [178, 201, 197, 150, 137],\n",
       "       [174, 168, 181, 190, 184],\n",
       "       [131, 179, 176, 185, 198],\n",
       "       [ 92, 185, 179, 133, 167]])"
      ]
     },
     "execution_count": 108,
     "metadata": {},
     "output_type": "execute_result"
    }
   ],
   "source": [
    "inp = np.array([[164,188,164,161,195],[178,201,197,150,137],[174,168,181,190,184],[131,179,176,185,198],[92,185,179,133,167]])\n",
    "inp"
   ]
  },
  {
   "cell_type": "code",
   "execution_count": 109,
   "metadata": {},
   "outputs": [
    {
     "data": {
      "text/plain": [
       "array([[1, 1, 1],\n",
       "       [1, 1, 1],\n",
       "       [1, 1, 1]])"
      ]
     },
     "execution_count": 109,
     "metadata": {},
     "output_type": "execute_result"
    }
   ],
   "source": [
    "conm = np.array([[1,1,1],[1,1,1],[1,1,1]])\n",
    "conm\n"
   ]
  },
  {
   "cell_type": "code",
   "execution_count": 110,
   "metadata": {},
   "outputs": [
    {
     "data": {
      "text/plain": [
       "array([[ 731., 1092., 1061., 1004.,  643.],\n",
       "       [1073., 1615., 1600., 1559., 1017.],\n",
       "       [1031., 1585., 1627., 1598., 1044.],\n",
       "       [ 929., 1465., 1576., 1593., 1057.],\n",
       "       [ 587.,  942., 1037., 1038.,  683.]])"
      ]
     },
     "execution_count": 110,
     "metadata": {},
     "output_type": "execute_result"
    }
   ],
   "source": [
    "out1 = conv(inp,conm)\n",
    "out1"
   ]
  },
  {
   "cell_type": "code",
   "execution_count": 111,
   "metadata": {},
   "outputs": [
    {
     "data": {
      "text/plain": [
       "array([[-1, -2, -1],\n",
       "       [ 0,  0,  0],\n",
       "       [-1, -2, -1]])"
      ]
     },
     "execution_count": 111,
     "metadata": {},
     "output_type": "execute_result"
    }
   ],
   "source": [
    "conm1 = np.array([[-1,-2,-1],[0,0,0],[-1,-2,-1]])\n",
    "conm1"
   ]
  },
  {
   "cell_type": "code",
   "execution_count": 113,
   "metadata": {},
   "outputs": [
    {
     "data": {
      "text/plain": [
       "array([[ -557.,  -777.,  -745.,  -634.,  -424.],\n",
       "       [-1032., -1395., -1397., -1426., -1109.],\n",
       "       [ -998., -1442., -1461., -1378., -1005.],\n",
       "       [ -885., -1332., -1396., -1357., -1025.],\n",
       "       [ -441.,  -665.,  -716.,  -744.,  -581.]])"
      ]
     },
     "execution_count": 113,
     "metadata": {},
     "output_type": "execute_result"
    }
   ],
   "source": [
    "out2 = conv(inp,conm1)\n",
    "out2"
   ]
  },
  {
   "cell_type": "code",
   "execution_count": 114,
   "metadata": {},
   "outputs": [
    {
     "data": {
      "text/plain": [
       "array([[-1, -1, -1],\n",
       "       [-1,  9, -1],\n",
       "       [-1, -1, -1]])"
      ]
     },
     "execution_count": 114,
     "metadata": {},
     "output_type": "execute_result"
    }
   ],
   "source": [
    "conm3 = np.array([[-1,-1,-1],[-1,9,-1],[-1,-1,-1]])\n",
    "conm3"
   ]
  },
  {
   "cell_type": "code",
   "execution_count": 115,
   "metadata": {},
   "outputs": [
    {
     "data": {
      "text/plain": [
       "array([[ 909.,  788.,  579.,  606., 1307.],\n",
       "       [ 707.,  395.,  370.,  -59.,  353.],\n",
       "       [ 709.,   95.,  183.,  302.,  796.],\n",
       "       [ 381.,  325.,  184.,  257.,  923.],\n",
       "       [ 333.,  908.,  753.,  292.,  987.]])"
      ]
     },
     "execution_count": 115,
     "metadata": {},
     "output_type": "execute_result"
    }
   ],
   "source": [
    "out3 = conv(inp,conm3)\n",
    "out3"
   ]
  },
  {
   "cell_type": "code",
   "execution_count": null,
   "metadata": {},
   "outputs": [],
   "source": []
  }
 ],
 "metadata": {
  "kernelspec": {
   "display_name": "Python 3",
   "language": "python",
   "name": "python3"
  },
  "language_info": {
   "codemirror_mode": {
    "name": "ipython",
    "version": 3
   },
   "file_extension": ".py",
   "mimetype": "text/x-python",
   "name": "python",
   "nbconvert_exporter": "python",
   "pygments_lexer": "ipython3",
   "version": "3.7.1"
  }
 },
 "nbformat": 4,
 "nbformat_minor": 2
}
