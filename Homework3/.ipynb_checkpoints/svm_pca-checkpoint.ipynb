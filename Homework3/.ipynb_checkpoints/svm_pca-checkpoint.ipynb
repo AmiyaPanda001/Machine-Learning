{
 "cells": [
  {
   "cell_type": "code",
   "execution_count": 2,
   "metadata": {},
   "outputs": [],
   "source": [
    "#importing libraries\n",
    "import numpy as np\n",
    "from PIL import Image\n",
    "import os\n",
    "from numpy import linalg as LA\n",
    "import matplotlib.pyplot as plt\n",
    "from sklearn import preprocessing\n",
    "from matplotlib import style\n",
    "from sklearn.svm import SVC\n",
    "from sklearn.metrics import accuracy_score"
   ]
  },
  {
   "cell_type": "code",
   "execution_count": 3,
   "metadata": {},
   "outputs": [],
   "source": [
    "scalar = preprocessing.StandardScaler()"
   ]
  },
  {
   "cell_type": "code",
   "execution_count": 5,
   "metadata": {},
   "outputs": [
    {
     "name": "stdout",
     "output_type": "stream",
     "text": [
      "C:\\Users\\Amiya\\Desktop\\Second Semester\\CSCE_633_Assignment_3\n"
     ]
    }
   ],
   "source": [
    "cd \"Second Semester\""
   ]
  },
  {
   "cell_type": "code",
   "execution_count": 7,
   "metadata": {},
   "outputs": [
    {
     "name": "stdout",
     "output_type": "stream",
     "text": [
      "C:\\Users\\Amiya\\Desktop\\Second Semester\\CSCE_633_Assignment_3\\yalefaces\n"
     ]
    }
   ],
   "source": [
    "cd CSCE_633_Assignment_3/yalefaces/"
   ]
  },
  {
   "cell_type": "code",
   "execution_count": 8,
   "metadata": {},
   "outputs": [],
   "source": [
    "#stacking input images to a single matrix\n",
    "directory = os.getcwd()\n",
    "inp_arr = np.zeros(6400)\n",
    "\n",
    "for filename in os.listdir(directory):\n",
    "    \n",
    "    temp_image = Image.open(filename)\n",
    "    temp_image = temp_image.resize((80,80))\n",
    "    temp_arr = np.array(temp_image)\n",
    "    temp_arr = temp_arr.flatten()\n",
    "    inp_arr = np.vstack((inp_arr,temp_arr))\n",
    "    \n",
    "inp_arr = inp_arr[1:]"
   ]
  },
  {
   "cell_type": "code",
   "execution_count": 9,
   "metadata": {},
   "outputs": [],
   "source": [
    "#getting labels of output\n",
    "directory = os.getcwd()\n",
    "y_arr = np.zeros(1)\n",
    "for filename in os.listdir(directory):\n",
    "    y = int(filename[7:9])\n",
    "    y_arr = np.vstack((y_arr,y))\n",
    "y_arr = y_arr[1:]"
   ]
  },
  {
   "cell_type": "code",
   "execution_count": 10,
   "metadata": {},
   "outputs": [
    {
     "data": {
      "text/plain": [
       "array([[ 1.],\n",
       "       [ 1.],\n",
       "       [ 1.],\n",
       "       [ 1.],\n",
       "       [ 1.],\n",
       "       [ 1.],\n",
       "       [ 1.],\n",
       "       [ 1.],\n",
       "       [ 1.],\n",
       "       [ 1.],\n",
       "       [ 1.],\n",
       "       [ 2.],\n",
       "       [ 2.],\n",
       "       [ 2.],\n",
       "       [ 2.],\n",
       "       [ 2.],\n",
       "       [ 2.],\n",
       "       [ 2.],\n",
       "       [ 2.],\n",
       "       [ 2.],\n",
       "       [ 2.],\n",
       "       [ 2.],\n",
       "       [ 3.],\n",
       "       [ 3.],\n",
       "       [ 3.],\n",
       "       [ 3.],\n",
       "       [ 3.],\n",
       "       [ 3.],\n",
       "       [ 3.],\n",
       "       [ 3.],\n",
       "       [ 3.],\n",
       "       [ 3.],\n",
       "       [ 3.],\n",
       "       [ 4.],\n",
       "       [ 4.],\n",
       "       [ 4.],\n",
       "       [ 4.],\n",
       "       [ 4.],\n",
       "       [ 4.],\n",
       "       [ 4.],\n",
       "       [ 4.],\n",
       "       [ 4.],\n",
       "       [ 4.],\n",
       "       [ 4.],\n",
       "       [ 5.],\n",
       "       [ 5.],\n",
       "       [ 5.],\n",
       "       [ 5.],\n",
       "       [ 5.],\n",
       "       [ 5.],\n",
       "       [ 5.],\n",
       "       [ 5.],\n",
       "       [ 5.],\n",
       "       [ 5.],\n",
       "       [ 5.],\n",
       "       [ 6.],\n",
       "       [ 6.],\n",
       "       [ 6.],\n",
       "       [ 6.],\n",
       "       [ 6.],\n",
       "       [ 6.],\n",
       "       [ 6.],\n",
       "       [ 6.],\n",
       "       [ 6.],\n",
       "       [ 6.],\n",
       "       [ 6.],\n",
       "       [ 7.],\n",
       "       [ 7.],\n",
       "       [ 7.],\n",
       "       [ 7.],\n",
       "       [ 7.],\n",
       "       [ 7.],\n",
       "       [ 7.],\n",
       "       [ 7.],\n",
       "       [ 7.],\n",
       "       [ 7.],\n",
       "       [ 7.],\n",
       "       [ 8.],\n",
       "       [ 8.],\n",
       "       [ 8.],\n",
       "       [ 8.],\n",
       "       [ 8.],\n",
       "       [ 8.],\n",
       "       [ 8.],\n",
       "       [ 8.],\n",
       "       [ 8.],\n",
       "       [ 8.],\n",
       "       [ 8.],\n",
       "       [ 9.],\n",
       "       [ 9.],\n",
       "       [ 9.],\n",
       "       [ 9.],\n",
       "       [ 9.],\n",
       "       [ 9.],\n",
       "       [ 9.],\n",
       "       [ 9.],\n",
       "       [ 9.],\n",
       "       [ 9.],\n",
       "       [ 9.],\n",
       "       [10.],\n",
       "       [10.],\n",
       "       [10.],\n",
       "       [10.],\n",
       "       [10.],\n",
       "       [10.],\n",
       "       [10.],\n",
       "       [10.],\n",
       "       [10.],\n",
       "       [10.],\n",
       "       [10.],\n",
       "       [11.],\n",
       "       [11.],\n",
       "       [11.],\n",
       "       [11.],\n",
       "       [11.],\n",
       "       [11.],\n",
       "       [11.],\n",
       "       [11.],\n",
       "       [11.],\n",
       "       [11.],\n",
       "       [11.],\n",
       "       [12.],\n",
       "       [12.],\n",
       "       [12.],\n",
       "       [12.],\n",
       "       [12.],\n",
       "       [12.],\n",
       "       [12.],\n",
       "       [12.],\n",
       "       [12.],\n",
       "       [12.],\n",
       "       [12.],\n",
       "       [13.],\n",
       "       [13.],\n",
       "       [13.],\n",
       "       [13.],\n",
       "       [13.],\n",
       "       [13.],\n",
       "       [13.],\n",
       "       [13.],\n",
       "       [13.],\n",
       "       [13.],\n",
       "       [13.],\n",
       "       [14.],\n",
       "       [14.],\n",
       "       [14.],\n",
       "       [14.],\n",
       "       [14.],\n",
       "       [14.],\n",
       "       [14.],\n",
       "       [14.],\n",
       "       [14.],\n",
       "       [14.],\n",
       "       [14.],\n",
       "       [15.],\n",
       "       [15.],\n",
       "       [15.],\n",
       "       [15.],\n",
       "       [15.],\n",
       "       [15.],\n",
       "       [15.],\n",
       "       [15.],\n",
       "       [15.],\n",
       "       [15.],\n",
       "       [15.]])"
      ]
     },
     "execution_count": 10,
     "metadata": {},
     "output_type": "execute_result"
    }
   ],
   "source": [
    "y_arr"
   ]
  },
  {
   "cell_type": "code",
   "execution_count": 11,
   "metadata": {},
   "outputs": [],
   "source": [
    "#Creating new datasets for train and test\n",
    "#1.concatenating image and labels\n",
    "#dataset = np.array([])\n",
    "dataset = np.concatenate((inp_arr,y_arr), axis = 1)"
   ]
  },
  {
   "cell_type": "code",
   "execution_count": 12,
   "metadata": {},
   "outputs": [],
   "source": [
    "#2.shuffle the dataset to create ransomness\n",
    "for i in range(10):\n",
    "    np.random.shuffle(dataset)\n"
   ]
  },
  {
   "cell_type": "code",
   "execution_count": 13,
   "metadata": {},
   "outputs": [],
   "source": [
    "#3.split into test and train data\n",
    "train = dataset[:120]\n",
    "test = dataset[120:]"
   ]
  },
  {
   "cell_type": "code",
   "execution_count": 14,
   "metadata": {},
   "outputs": [
    {
     "data": {
      "text/plain": [
       "array([11.,  3., 12., 11., 11.,  6., 12.,  8., 14., 10.,  5.,  9.,  6.,\n",
       "       12.,  5., 15.,  4.,  1.,  9., 12., 11.,  3., 11.,  8.,  2.,  1.,\n",
       "        1.,  8.,  8., 13.,  6., 14., 11.,  9.,  1.,  4., 14., 10.,  1.,\n",
       "       13., 10.,  3., 10.,  9.,  3., 14.,  8., 10.,  5., 15.,  6.,  3.,\n",
       "        2.,  7.,  2.,  5., 13.,  2.,  4.,  3., 14., 13.,  4.,  2.,  8.,\n",
       "        7., 15.,  5.,  2.,  6., 13.,  3., 11.,  9., 15.,  3.,  7.,  8.,\n",
       "       14.,  4.,  2.,  6.,  8.,  4.,  7.,  3.,  6., 15.,  7., 13.,  9.,\n",
       "        8., 14.,  1., 11., 14., 10.,  2.,  9.,  6.,  9.,  7.,  7.,  5.,\n",
       "        5.,  4., 12., 12., 13.,  1., 10., 15.,  6.,  2., 10., 13., 11.,\n",
       "        6.,  5.,  5.])"
      ]
     },
     "execution_count": 14,
     "metadata": {},
     "output_type": "execute_result"
    }
   ],
   "source": [
    "train[:,6400]"
   ]
  },
  {
   "cell_type": "code",
   "execution_count": 15,
   "metadata": {},
   "outputs": [],
   "source": [
    "#pca module\n",
    "\n",
    "def pca(inp_arr):\n",
    "#preprocess data\n",
    "    mean = np.mean(inp_arr,axis = 0)\n",
    "\n",
    "    for i in inp_arr:\n",
    "        i -= mean\n",
    "    inp_arr = scalar.fit_transform(inp_arr)\n",
    "\n",
    "#calculating singular value decomposition\n",
    "    P,eig_val,V = LA.svd(inp_arr.transpose())\n",
    "    #P.shape\n",
    "    return P"
   ]
  },
  {
   "cell_type": "code",
   "execution_count": 16,
   "metadata": {},
   "outputs": [],
   "source": [
    "#preprocessing train and test data and expexted outcomes\n",
    "\n",
    "train_x = train[:,:6400]\n",
    "train_y = train[:,-1]\n",
    "\n",
    "test_x = test[:,:6400]\n",
    "test_y = test[:,-1]"
   ]
  },
  {
   "cell_type": "code",
   "execution_count": 18,
   "metadata": {},
   "outputs": [
    {
     "data": {
      "text/plain": [
       "array([11,  3, 12, 11, 11,  6, 12,  8, 14, 10,  5,  9,  6, 12,  5, 15,  4,\n",
       "        1,  9, 12, 11,  3, 11,  8,  2,  1,  1,  8,  8, 13,  6, 14, 11,  9,\n",
       "        1,  4, 14, 10,  1, 13, 10,  3, 10,  9,  3, 14,  8, 10,  5, 15,  6,\n",
       "        3,  2,  7,  2,  5, 13,  2,  4,  3, 14, 13,  4,  2,  8,  7, 15,  5,\n",
       "        2,  6, 13,  3, 11,  9, 15,  3,  7,  8, 14,  4,  2,  6,  8,  4,  7,\n",
       "        3,  6, 15,  7, 13,  9,  8, 14,  1, 11, 14, 10,  2,  9,  6,  9,  7,\n",
       "        7,  5,  5,  4, 12, 12, 13,  1, 10, 15,  6,  2, 10, 13, 11,  6,  5,\n",
       "        5])"
      ]
     },
     "execution_count": 18,
     "metadata": {},
     "output_type": "execute_result"
    }
   ],
   "source": [
    "train_y.astype(int)"
   ]
  },
  {
   "cell_type": "code",
   "execution_count": 19,
   "metadata": {},
   "outputs": [],
   "source": [
    "#k-fold cross-validation module\n",
    "\n",
    "def cross_validation(dataset, folds):\n",
    "\tdf_split = np.array_split(train, 5)\n",
    "\tdataset_copy = list()\n",
    "\taccuracy_final = []\n",
    "\tc = []\n",
    "\tfinal = []\n",
    "\tk = [30,60,90]\n",
    "\tfor i in range(-10,10,2):\n",
    "\t\ttemp = pow(2,i)\n",
    "\t\tc.append(temp)\n",
    "\t\t\n",
    "\tfor j in c:\n",
    "\t\tfor t in k:\n",
    "\t\t\ttemp = []\n",
    "\t\t\ts_c = 'c = ' + str(j)\n",
    "\t\t\ts_k = 'k = ' + str(t)\n",
    "\t\t\ttemp.append(s_c)\n",
    "\t\t\ttemp.append(s_k)\n",
    "\t\t\t\n",
    "\t\t\tfor i in range(folds):\n",
    "\t\t\t\tfold = list()\n",
    "\t\t\t\tfor fold_no in range(folds):\n",
    "\t\t\t\t\tif fold_no == i:\n",
    "\t\t\t\t\t\ttest_cv = df_split[fold_no]\n",
    "\t\t\t\t\telse:\n",
    "\t\t\t\t\t\tfold.append(df_split[fold_no])\n",
    "\t\t\t\ttrain_cv = np.concatenate(fold)\n",
    "\t\t\t\taccuracy_vec=[]\n",
    "\t\t\t\tpredictions=[]\n",
    "\t\t\t\n",
    "\t\t\t\n",
    "\t\t\t\ty_train = train_cv[:,-1];y_train = y_train.astype(int)\n",
    "\t\t\t\t#print(y_train.size)\n",
    "\t\t\t\tX_train = train_cv[:,:6400]\n",
    "\t\t\t\t#print(X_train.size)\n",
    "\t\t\t \n",
    "\t\t\t\ty_test = test_cv[:,-1];y_test = y_test.astype(int)\n",
    "\t\t\t\tX_test = test_cv[:,:6400]\n",
    "\t\t\t\t#print(type(X_test))\n",
    "\t\t\t\tP = pca(X_train)\n",
    "\t\t\t\tpca_train = np.dot(X_train, P.real[:,:t])\n",
    "\t\t\t\tpca_test = np.dot(X_test, P.real[:,:t])\n",
    "\t\t\t\n",
    "\t\t\t\tsvclassifier = SVC(kernel= 'linear',C = j)  \n",
    "\t\t\t\tsvclassifier.fit(pca_train, y_train)\n",
    "\t\t\t\tpredictions = svclassifier.predict(pca_test)  \n",
    "\n",
    "\t\t\t\taccuracy = accuracy_score(y_test, predictions)\n",
    "\t\t\t\taccuracy_vec.append(accuracy)\n",
    "\t\t\taccuracy_per_fold = sum(accuracy_vec) / len(accuracy_vec)\n",
    "\t\t\ts_acc = 'accuracy = ' + str(accuracy_per_fold)\n",
    "\t\t\ttemp.append(s_acc)\n",
    "\t\t\taccuracy_final.append(temp)\n",
    "\treturn accuracy_final"
   ]
  },
  {
   "cell_type": "code",
   "execution_count": 20,
   "metadata": {},
   "outputs": [
    {
     "name": "stdout",
     "output_type": "stream",
     "text": [
      "[['c = 0.0009765625', 'k = 30', 'accuracy = 0.16666666666666666'], ['c = 0.0009765625', 'k = 60', 'accuracy = 0.20833333333333334'], ['c = 0.0009765625', 'k = 90', 'accuracy = 0.20833333333333334'], ['c = 0.00390625', 'k = 30', 'accuracy = 0.16666666666666666'], ['c = 0.00390625', 'k = 60', 'accuracy = 0.20833333333333334'], ['c = 0.00390625', 'k = 90', 'accuracy = 0.20833333333333334'], ['c = 0.015625', 'k = 30', 'accuracy = 0.16666666666666666'], ['c = 0.015625', 'k = 60', 'accuracy = 0.20833333333333334'], ['c = 0.015625', 'k = 90', 'accuracy = 0.20833333333333334'], ['c = 0.0625', 'k = 30', 'accuracy = 0.16666666666666666'], ['c = 0.0625', 'k = 60', 'accuracy = 0.20833333333333334'], ['c = 0.0625', 'k = 90', 'accuracy = 0.20833333333333334'], ['c = 0.25', 'k = 30', 'accuracy = 0.16666666666666666'], ['c = 0.25', 'k = 60', 'accuracy = 0.20833333333333334'], ['c = 0.25', 'k = 90', 'accuracy = 0.20833333333333334'], ['c = 1', 'k = 30', 'accuracy = 0.16666666666666666'], ['c = 1', 'k = 60', 'accuracy = 0.20833333333333334'], ['c = 1', 'k = 90', 'accuracy = 0.20833333333333334'], ['c = 4', 'k = 30', 'accuracy = 0.16666666666666666'], ['c = 4', 'k = 60', 'accuracy = 0.20833333333333334'], ['c = 4', 'k = 90', 'accuracy = 0.20833333333333334'], ['c = 16', 'k = 30', 'accuracy = 0.16666666666666666'], ['c = 16', 'k = 60', 'accuracy = 0.20833333333333334'], ['c = 16', 'k = 90', 'accuracy = 0.20833333333333334'], ['c = 64', 'k = 30', 'accuracy = 0.16666666666666666'], ['c = 64', 'k = 60', 'accuracy = 0.20833333333333334'], ['c = 64', 'k = 90', 'accuracy = 0.20833333333333334'], ['c = 256', 'k = 30', 'accuracy = 0.16666666666666666'], ['c = 256', 'k = 60', 'accuracy = 0.20833333333333334'], ['c = 256', 'k = 90', 'accuracy = 0.20833333333333334']]\n"
     ]
    }
   ],
   "source": [
    "#performing 5 fold cross-validation on training set\n",
    "cross_val = cross_validation(train, 5)\n",
    "print(cross_val)"
   ]
  },
  {
   "cell_type": "code",
   "execution_count": 21,
   "metadata": {},
   "outputs": [
    {
     "name": "stdout",
     "output_type": "stream",
     "text": [
      "0.4444444444444444\n"
     ]
    }
   ],
   "source": [
    "#from the output of cross validation the maximum value at c = 256 and k = 90\n",
    "c = 256\n",
    "k = 90\n",
    "P = pca(train_x)\n",
    "pca_train = np.dot(train_x, P.real[:,:k])\n",
    "pca_test = np.dot(test_x, P.real[:,:k])\n",
    "train_y = train_y.astype(int)\n",
    "test_y = test_y.astype(int)\n",
    "svclassifier = SVC(kernel= 'linear', C = c)\n",
    "svclassifier.fit(pca_train, train_y)\n",
    "predictions_test = svclassifier.predict(pca_test)\n",
    "accuracy = accuracy_score(test_y, predictions_test)\n",
    "print(accuracy)"
   ]
  },
  {
   "cell_type": "code",
   "execution_count": null,
   "metadata": {},
   "outputs": [],
   "source": []
  }
 ],
 "metadata": {
  "kernelspec": {
   "display_name": "Python 3",
   "language": "python",
   "name": "python3"
  },
  "language_info": {
   "codemirror_mode": {
    "name": "ipython",
    "version": 3
   },
   "file_extension": ".py",
   "mimetype": "text/x-python",
   "name": "python",
   "nbconvert_exporter": "python",
   "pygments_lexer": "ipython3",
   "version": "3.7.1"
  }
 },
 "nbformat": 4,
 "nbformat_minor": 2
}
